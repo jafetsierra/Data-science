{
  "nbformat": 4,
  "nbformat_minor": 0,
  "metadata": {
    "colab": {
      "name": "barplot-error-color-interval.ipynb",
      "provenance": [],
      "collapsed_sections": [],
      "authorship_tag": "ABX9TyP60UICmwWdi8DW7hS9jm10",
      "include_colab_link": true
    },
    "kernelspec": {
      "name": "python3",
      "display_name": "Python 3"
    },
    "language_info": {
      "name": "python"
    }
  },
  "cells": [
    {
      "cell_type": "markdown",
      "metadata": {
        "id": "view-in-github",
        "colab_type": "text"
      },
      "source": [
        "<a href=\"https://colab.research.google.com/github/jafetsierra/Data-science/blob/main/barplot_error_color_interval.ipynb\" target=\"_parent\"><img src=\"https://colab.research.google.com/assets/colab-badge.svg\" alt=\"Open In Colab\"/></a>"
      ]
    },
    {
      "cell_type": "code",
      "metadata": {
        "colab": {
          "base_uri": "https://localhost:8080/"
        },
        "id": "sLmnL5U8tjVF",
        "outputId": "e9d82ff3-2fe9-416e-8aad-88244b8d9b16"
      },
      "source": [
        "# Use the following data for this assignment:\n",
        "\n",
        "import pandas as pd\n",
        "import numpy as np\n",
        "import matplotlib.pyplot as plt\n",
        "\n",
        "np.random.seed(12345)\n",
        "\n",
        "df = pd.DataFrame([np.random.normal(32000,200000,3650), \n",
        "                   np.random.normal(43000,100000,3650), \n",
        "                   np.random.normal(43500,140000,3650), \n",
        "                   np.random.normal(48000,70000,3650)], \n",
        "                  index=[1992,1993,1994,1995]) \n",
        "df = df.transpose()\n",
        "x = range(len(df.columns))\n",
        "mean = df.mean()\n",
        "error = 1.96*(df.std()/np.sqrt(df.count()))\n",
        "y_value=int(input(\"please enter y value of interest \"))"
      ],
      "execution_count": 139,
      "outputs": [
        {
          "output_type": "stream",
          "text": [
            "please enter y value of interest 29000\n"
          ],
          "name": "stdout"
        }
      ]
    },
    {
      "cell_type": "code",
      "metadata": {
        "id": "37gZYEyBIKEO"
      },
      "source": [
        "data_sta = mean.to_frame(name='mean')\n",
        "data_sta['upper'] = data_sta['mean']+error\n",
        "data_sta['lower'] = data_sta['mean']-error\n",
        "data_sta['below'] = data_sta['upper'].apply(lambda x: 1 if x<y_value else 0) \n",
        "data_sta['above'] = data_sta['lower'].apply(lambda x: 1 if x>y_value else 0)  \n",
        "data_sta['between'] = [1 if x==0 and y==0 else 0 for x,y in zip(data_sta['above'],data_sta['below'])]\n",
        "data_sta = data_sta[['below','above','between']]"
      ],
      "execution_count": 140,
      "outputs": []
    },
    {
      "cell_type": "code",
      "metadata": {
        "colab": {
          "base_uri": "https://localhost:8080/",
          "height": 299
        },
        "id": "9Yc98UzB1umn",
        "outputId": "59c4fe88-2937-463b-fe1c-50cd272a97a7"
      },
      "source": [
        "fig, ax = plt.subplots()\n",
        "plt.axhline(y=y_value, color='orange',linestyle='-.')\n",
        "bars = plt.bar(x,mean,width=0.6,yerr=error,color='cyan',capsize=12,label='Mean by year',bottom=0,alpha=0.9)\n",
        "i = 0\n",
        "for ele in data_sta.itertuples():\n",
        "  if ele[1] ==1:\n",
        "    bars[i].set_color('grey')\n",
        "  elif ele[2] ==1:\n",
        "    bars[i].set_color('green')\n",
        "  else:\n",
        "    bars[i].set_color('red')\n",
        "  i+=1\n",
        "\n",
        "\n",
        "font = {'family': 'serif',\n",
        "      'color':  'darkred',\n",
        "      'weight': 'normal',\n",
        "      'size': 13,\n",
        "      }\n",
        "\n",
        "\n",
        "plt.xticks(x,df.columns)\n",
        "plt.ylabel('Values', fontdict=font)\n",
        "plt.xlabel('Year', fontdict=font)\n",
        "ax.legend()\n",
        "plt.show()\n",
        "plt.savefig('img.png')"
      ],
      "execution_count": 169,
      "outputs": [
        {
          "output_type": "display_data",
          "data": {
            "image/png": "[encoded data removed]",
            "text/plain": [
              "<Figure size 432x288 with 1 Axes>"
            ]
          },
          "metadata": {
            "tags": [],
            "needs_background": "light"
          }
        },
        {
          "output_type": "display_data",
          "data": {
            "text/plain": [
              "<Figure size 432x288 with 0 Axes>"
            ]
          },
          "metadata": {
            "tags": []
          }
        }
      ]
    },
    {
      "cell_type": "code",
      "metadata": {
        "id": "BZpfaWHOktS2"
      },
      "source": [
        ""
      ],
      "execution_count": null,
      "outputs": []
    }
  ]
}