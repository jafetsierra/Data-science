{
  "nbformat": 4,
  "nbformat_minor": 0,
  "metadata": {
    "colab": {
      "name": "SuicideRate-2000-2015.ipynb",
      "provenance": [],
      "collapsed_sections": [],
      "authorship_tag": "ABX9TyPy9bySJuLHvKFWC3wMNaAg",
      "include_colab_link": true
    },
    "kernelspec": {
      "name": "python3",
      "display_name": "Python 3"
    },
    "language_info": {
      "name": "python"
    }
  },
  "cells": [
    {
      "cell_type": "markdown",
      "metadata": {
        "id": "view-in-github",
        "colab_type": "text"
      },
      "source": [
        "<a href=\"https://colab.research.google.com/github/jafetsierra/Data-science/blob/main/SuicideRate_2000_2015.ipynb\" target=\"_parent\"><img src=\"https://colab.research.google.com/assets/colab-badge.svg\" alt=\"Open In Colab\"/></a>"
      ]
    },
    {
      "cell_type": "markdown",
      "metadata": {
        "id": "fmJ1noAqTp45"
      },
      "source": [
        ""
      ]
    },
    {
      "cell_type": "code",
      "metadata": {
        "id": "6LiVn710WcUl"
      },
      "source": [
        "import pandas as pd\n",
        "import numpy as np\n",
        "import matplotlib.pyplot as plt\n",
        "import itertools"
      ],
      "execution_count": 4,
      "outputs": []
    },
    {
      "cell_type": "markdown",
      "metadata": {
        "id": "O4txIOfUVa4G"
      },
      "source": [
        "# Suicide Rates Overview 1985 to 2016\n",
        "Compares socio-economic info with suicide rates by year and country\n",
        "\n",
        "[texto del enlace](https://www.kaggle.com/russellyates88/suicide-rates-overview-1985-to-2016)"
      ]
    },
    {
      "cell_type": "code",
      "metadata": {
        "id": "okPEIUS_S6VK"
      },
      "source": [
        "df_suicides = pd.read_csv('us_data.csv')"
      ],
      "execution_count": 6,
      "outputs": []
    },
    {
      "cell_type": "code",
      "metadata": {
        "colab": {
          "base_uri": "https://localhost:8080/"
        },
        "id": "N5k17OuovhsH",
        "outputId": "5d8a3d23-d249-4a1d-e093-7dcd20a1a7b3"
      },
      "source": [
        "df_suicides.columns"
      ],
      "execution_count": 7,
      "outputs": [
        {
          "output_type": "execute_result",
          "data": {
            "text/plain": [
              "Index(['country', 'year', 'sex', 'age', 'suicides_no', 'population',\n",
              "       'suicides/100k pop', 'country-year', 'HDI for year',\n",
              "       ' gdp_for_year ($) ', 'gdp_per_capita ($)', 'generation'],\n",
              "      dtype='object')"
            ]
          },
          "metadata": {
            "tags": []
          },
          "execution_count": 7
        }
      ]
    },
    {
      "cell_type": "code",
      "metadata": {
        "id": "tiK0nehuWNu2"
      },
      "source": [
        "#df_suicides['country'].unique()"
      ],
      "execution_count": 8,
      "outputs": []
    },
    {
      "cell_type": "code",
      "metadata": {
        "id": "bv6jAUYETamF"
      },
      "source": [
        "df_suicides = df_suicides[df_suicides['country']=='United States']"
      ],
      "execution_count": 9,
      "outputs": []
    },
    {
      "cell_type": "code",
      "metadata": {
        "colab": {
          "base_uri": "https://localhost:8080/"
        },
        "id": "KWcj9tWryKmj",
        "outputId": "2b688cd1-2235-4029-d74e-afad45a63719"
      },
      "source": [
        "df_suicides['year'].unique()"
      ],
      "execution_count": 10,
      "outputs": [
        {
          "output_type": "execute_result",
          "data": {
            "text/plain": [
              "array([1985, 1986, 1987, 1988, 1989, 1990, 1991, 1992, 1993, 1994, 1995,\n",
              "       1996, 1997, 1998, 1999, 2000, 2001, 2002, 2003, 2004, 2005, 2006,\n",
              "       2007, 2008, 2009, 2010, 2011, 2012, 2013, 2014, 2015])"
            ]
          },
          "metadata": {
            "tags": []
          },
          "execution_count": 10
        }
      ]
    },
    {
      "cell_type": "code",
      "metadata": {
        "colab": {
          "base_uri": "https://localhost:8080/",
          "height": 546
        },
        "id": "0P7S5kASvvps",
        "outputId": "b5d52922-b742-4ab8-c66e-6d0ee833b986"
      },
      "source": [
        "df_s_g = df_suicides.groupby('year')\n",
        "data = []\n",
        "years = np.linspace(2000,2015,16,dtype=int)\n",
        "for k,g in df_s_g:\n",
        "  if k in years:\n",
        "    data.append([int(k),g['suicides/100k pop'].mean()])\n",
        "df_s = pd.DataFrame(data,columns=['year','suicides/100k pop'])\n",
        "df_s"
      ],
      "execution_count": 11,
      "outputs": [
        {
          "output_type": "execute_result",
          "data": {
            "text/html": [
              "<div>\n",
              "<style scoped>\n",
              "    .dataframe tbody tr th:only-of-type {\n",
              "        vertical-align: middle;\n",
              "    }\n",
              "\n",
              "    .dataframe tbody tr th {\n",
              "        vertical-align: top;\n",
              "    }\n",
              "\n",
              "    .dataframe thead th {\n",
              "        text-align: right;\n",
              "    }\n",
              "</style>\n",
              "<table border=\"1\" class=\"dataframe\">\n",
              "  <thead>\n",
              "    <tr style=\"text-align: right;\">\n",
              "      <th></th>\n",
              "      <th>year</th>\n",
              "      <th>suicides/100k pop</th>\n",
              "    </tr>\n",
              "  </thead>\n",
              "  <tbody>\n",
              "    <tr>\n",
              "      <th>0</th>\n",
              "      <td>2000</td>\n",
              "      <td>12.215000</td>\n",
              "    </tr>\n",
              "    <tr>\n",
              "      <th>1</th>\n",
              "      <td>2001</td>\n",
              "      <td>12.351667</td>\n",
              "    </tr>\n",
              "    <tr>\n",
              "      <th>2</th>\n",
              "      <td>2002</td>\n",
              "      <td>12.501667</td>\n",
              "    </tr>\n",
              "    <tr>\n",
              "      <th>3</th>\n",
              "      <td>2003</td>\n",
              "      <td>12.136667</td>\n",
              "    </tr>\n",
              "    <tr>\n",
              "      <th>4</th>\n",
              "      <td>2004</td>\n",
              "      <td>12.241667</td>\n",
              "    </tr>\n",
              "    <tr>\n",
              "      <th>5</th>\n",
              "      <td>2005</td>\n",
              "      <td>12.223333</td>\n",
              "    </tr>\n",
              "    <tr>\n",
              "      <th>6</th>\n",
              "      <td>2006</td>\n",
              "      <td>12.094167</td>\n",
              "    </tr>\n",
              "    <tr>\n",
              "      <th>7</th>\n",
              "      <td>2007</td>\n",
              "      <td>12.426667</td>\n",
              "    </tr>\n",
              "    <tr>\n",
              "      <th>8</th>\n",
              "      <td>2008</td>\n",
              "      <td>12.770000</td>\n",
              "    </tr>\n",
              "    <tr>\n",
              "      <th>9</th>\n",
              "      <td>2009</td>\n",
              "      <td>12.849167</td>\n",
              "    </tr>\n",
              "    <tr>\n",
              "      <th>10</th>\n",
              "      <td>2010</td>\n",
              "      <td>13.240833</td>\n",
              "    </tr>\n",
              "    <tr>\n",
              "      <th>11</th>\n",
              "      <td>2011</td>\n",
              "      <td>13.530000</td>\n",
              "    </tr>\n",
              "    <tr>\n",
              "      <th>12</th>\n",
              "      <td>2012</td>\n",
              "      <td>13.761667</td>\n",
              "    </tr>\n",
              "    <tr>\n",
              "      <th>13</th>\n",
              "      <td>2013</td>\n",
              "      <td>13.889167</td>\n",
              "    </tr>\n",
              "    <tr>\n",
              "      <th>14</th>\n",
              "      <td>2014</td>\n",
              "      <td>14.277500</td>\n",
              "    </tr>\n",
              "    <tr>\n",
              "      <th>15</th>\n",
              "      <td>2015</td>\n",
              "      <td>14.617500</td>\n",
              "    </tr>\n",
              "  </tbody>\n",
              "</table>\n",
              "</div>"
            ],
            "text/plain": [
              "    year  suicides/100k pop\n",
              "0   2000          12.215000\n",
              "1   2001          12.351667\n",
              "2   2002          12.501667\n",
              "3   2003          12.136667\n",
              "4   2004          12.241667\n",
              "5   2005          12.223333\n",
              "6   2006          12.094167\n",
              "7   2007          12.426667\n",
              "8   2008          12.770000\n",
              "9   2009          12.849167\n",
              "10  2010          13.240833\n",
              "11  2011          13.530000\n",
              "12  2012          13.761667\n",
              "13  2013          13.889167\n",
              "14  2014          14.277500\n",
              "15  2015          14.617500"
            ]
          },
          "metadata": {
            "tags": []
          },
          "execution_count": 11
        }
      ]
    },
    {
      "cell_type": "markdown",
      "metadata": {
        "id": "b_8l_rISYhsI"
      },
      "source": [
        "# World Suicide Rate 2000-2015\n",
        "\n",
        "[texto del enlace](https://databank.worldbank.org/reports.aspx?source=2&country=JPN#)"
      ]
    },
    {
      "cell_type": "code",
      "metadata": {
        "id": "2SU58DMFHc8b"
      },
      "source": [
        "df_world = pd.read_csv('Data_worldwide.csv')\n",
        "df_worldT = df_world.T"
      ],
      "execution_count": 12,
      "outputs": []
    },
    {
      "cell_type": "code",
      "metadata": {
        "colab": {
          "base_uri": "https://localhost:8080/",
          "height": 546
        },
        "id": "4alb2PEeyqQH",
        "outputId": "345a904b-5fa2-4f37-a99c-ea72caa8cbd5"
      },
      "source": [
        "df_world = pd.read_csv('Data_worldwide.csv')\n",
        "df_worldT = df_world.T\n",
        "df_worldT = df_worldT.reset_index()\n",
        "df_worldT = df_worldT.drop([1,2,3])\n",
        "df_worldT = df_worldT.drop([6,7,8,9,10],axis=1)\n",
        "new_header = ['year','Japan','Colombia','Canada','France','Germany','Australia']\n",
        "df_worldT = df_worldT[1:]\n",
        "df_worldT.columns = new_header\n",
        "df_worldT = df_worldT.reset_index()\n",
        "df_worldT = df_worldT.drop('index',axis=1)\n",
        "df_worldT = df_worldT.replace('(?<=\\d{4}).*','',regex=True)\n",
        "df_worldT['year'] = df_worldT['year'].astype(int)\n",
        "df_worldT"
      ],
      "execution_count": 13,
      "outputs": [
        {
          "output_type": "execute_result",
          "data": {
            "text/html": [
              "<div>\n",
              "<style scoped>\n",
              "    .dataframe tbody tr th:only-of-type {\n",
              "        vertical-align: middle;\n",
              "    }\n",
              "\n",
              "    .dataframe tbody tr th {\n",
              "        vertical-align: top;\n",
              "    }\n",
              "\n",
              "    .dataframe thead th {\n",
              "        text-align: right;\n",
              "    }\n",
              "</style>\n",
              "<table border=\"1\" class=\"dataframe\">\n",
              "  <thead>\n",
              "    <tr style=\"text-align: right;\">\n",
              "      <th></th>\n",
              "      <th>year</th>\n",
              "      <th>Japan</th>\n",
              "      <th>Colombia</th>\n",
              "      <th>Canada</th>\n",
              "      <th>France</th>\n",
              "      <th>Germany</th>\n",
              "      <th>Australia</th>\n",
              "    </tr>\n",
              "  </thead>\n",
              "  <tbody>\n",
              "    <tr>\n",
              "      <th>0</th>\n",
              "      <td>2000</td>\n",
              "      <td>23.9</td>\n",
              "      <td>5.0</td>\n",
              "      <td>11.9</td>\n",
              "      <td>20.2</td>\n",
              "      <td>14.5</td>\n",
              "      <td>12.7</td>\n",
              "    </tr>\n",
              "    <tr>\n",
              "      <th>1</th>\n",
              "      <td>2001</td>\n",
              "      <td>23.2</td>\n",
              "      <td>4.9</td>\n",
              "      <td>12.2</td>\n",
              "      <td>19.5</td>\n",
              "      <td>14.5</td>\n",
              "      <td>12.2</td>\n",
              "    </tr>\n",
              "    <tr>\n",
              "      <th>2</th>\n",
              "      <td>2002</td>\n",
              "      <td>23.8</td>\n",
              "      <td>4.7</td>\n",
              "      <td>11.9</td>\n",
              "      <td>19.8</td>\n",
              "      <td>14.6</td>\n",
              "      <td>11.3</td>\n",
              "    </tr>\n",
              "    <tr>\n",
              "      <th>3</th>\n",
              "      <td>2003</td>\n",
              "      <td>25.6</td>\n",
              "      <td>4.6</td>\n",
              "      <td>12.4</td>\n",
              "      <td>20.1</td>\n",
              "      <td>14.4</td>\n",
              "      <td>10.5</td>\n",
              "    </tr>\n",
              "    <tr>\n",
              "      <th>4</th>\n",
              "      <td>2004</td>\n",
              "      <td>24.1</td>\n",
              "      <td>4.5</td>\n",
              "      <td>11.7</td>\n",
              "      <td>19.5</td>\n",
              "      <td>14.0</td>\n",
              "      <td>10.3</td>\n",
              "    </tr>\n",
              "    <tr>\n",
              "      <th>5</th>\n",
              "      <td>2005</td>\n",
              "      <td>24.3</td>\n",
              "      <td>4.1</td>\n",
              "      <td>12.2</td>\n",
              "      <td>19.1</td>\n",
              "      <td>13.3</td>\n",
              "      <td>11.2</td>\n",
              "    </tr>\n",
              "    <tr>\n",
              "      <th>6</th>\n",
              "      <td>2006</td>\n",
              "      <td>23.9</td>\n",
              "      <td>4.1</td>\n",
              "      <td>11.2</td>\n",
              "      <td>18.5</td>\n",
              "      <td>12.8</td>\n",
              "      <td>10.6</td>\n",
              "    </tr>\n",
              "    <tr>\n",
              "      <th>7</th>\n",
              "      <td>2007</td>\n",
              "      <td>25.0</td>\n",
              "      <td>4.1</td>\n",
              "      <td>11.5</td>\n",
              "      <td>17.9</td>\n",
              "      <td>12.4</td>\n",
              "      <td>10.9</td>\n",
              "    </tr>\n",
              "    <tr>\n",
              "      <th>8</th>\n",
              "      <td>2008</td>\n",
              "      <td>24.4</td>\n",
              "      <td>4.2</td>\n",
              "      <td>11.5</td>\n",
              "      <td>18.2</td>\n",
              "      <td>12.5</td>\n",
              "      <td>11.6</td>\n",
              "    </tr>\n",
              "    <tr>\n",
              "      <th>9</th>\n",
              "      <td>2009</td>\n",
              "      <td>24.9</td>\n",
              "      <td>4.1</td>\n",
              "      <td>12.0</td>\n",
              "      <td>18.4</td>\n",
              "      <td>12.8</td>\n",
              "      <td>11.2</td>\n",
              "    </tr>\n",
              "    <tr>\n",
              "      <th>10</th>\n",
              "      <td>2010</td>\n",
              "      <td>24.1</td>\n",
              "      <td>3.8</td>\n",
              "      <td>12.1</td>\n",
              "      <td>18.2</td>\n",
              "      <td>13.2</td>\n",
              "      <td>11.7</td>\n",
              "    </tr>\n",
              "    <tr>\n",
              "      <th>11</th>\n",
              "      <td>2011</td>\n",
              "      <td>23.4</td>\n",
              "      <td>3.7</td>\n",
              "      <td>11.3</td>\n",
              "      <td>18.0</td>\n",
              "      <td>13.2</td>\n",
              "      <td>11.2</td>\n",
              "    </tr>\n",
              "    <tr>\n",
              "      <th>12</th>\n",
              "      <td>2012</td>\n",
              "      <td>21.6</td>\n",
              "      <td>3.8</td>\n",
              "      <td>11.8</td>\n",
              "      <td>17.8</td>\n",
              "      <td>12.9</td>\n",
              "      <td>11.7</td>\n",
              "    </tr>\n",
              "    <tr>\n",
              "      <th>13</th>\n",
              "      <td>2013</td>\n",
              "      <td>21.4</td>\n",
              "      <td>3.7</td>\n",
              "      <td>12.1</td>\n",
              "      <td>17.0</td>\n",
              "      <td>13.4</td>\n",
              "      <td>11.5</td>\n",
              "    </tr>\n",
              "    <tr>\n",
              "      <th>14</th>\n",
              "      <td>2014</td>\n",
              "      <td>20.1</td>\n",
              "      <td>3.8</td>\n",
              "      <td>12.7</td>\n",
              "      <td>15.6</td>\n",
              "      <td>13.4</td>\n",
              "      <td>12.7</td>\n",
              "    </tr>\n",
              "    <tr>\n",
              "      <th>15</th>\n",
              "      <td>2015</td>\n",
              "      <td>19.1</td>\n",
              "      <td>4.1</td>\n",
              "      <td>13.0</td>\n",
              "      <td>15.8</td>\n",
              "      <td>13.3</td>\n",
              "      <td>13.2</td>\n",
              "    </tr>\n",
              "  </tbody>\n",
              "</table>\n",
              "</div>"
            ],
            "text/plain": [
              "    year  Japan  Colombia  Canada  France  Germany  Australia\n",
              "0   2000   23.9       5.0    11.9    20.2     14.5       12.7\n",
              "1   2001   23.2       4.9    12.2    19.5     14.5       12.2\n",
              "2   2002   23.8       4.7    11.9    19.8     14.6       11.3\n",
              "3   2003   25.6       4.6    12.4    20.1     14.4       10.5\n",
              "4   2004   24.1       4.5    11.7    19.5     14.0       10.3\n",
              "5   2005   24.3       4.1    12.2    19.1     13.3       11.2\n",
              "6   2006   23.9       4.1    11.2    18.5     12.8       10.6\n",
              "7   2007   25.0       4.1    11.5    17.9     12.4       10.9\n",
              "8   2008   24.4       4.2    11.5    18.2     12.5       11.6\n",
              "9   2009   24.9       4.1    12.0    18.4     12.8       11.2\n",
              "10  2010   24.1       3.8    12.1    18.2     13.2       11.7\n",
              "11  2011   23.4       3.7    11.3    18.0     13.2       11.2\n",
              "12  2012   21.6       3.8    11.8    17.8     12.9       11.7\n",
              "13  2013   21.4       3.7    12.1    17.0     13.4       11.5\n",
              "14  2014   20.1       3.8    12.7    15.6     13.4       12.7\n",
              "15  2015   19.1       4.1    13.0    15.8     13.3       13.2"
            ]
          },
          "metadata": {
            "tags": []
          },
          "execution_count": 13
        }
      ]
    },
    {
      "cell_type": "code",
      "metadata": {
        "colab": {
          "base_uri": "https://localhost:8080/",
          "height": 577
        },
        "id": "u6-zZby7qThe",
        "outputId": "f2a3aa93-f5aa-48f2-a40f-953a18470382"
      },
      "source": [
        "rta = df_worldT.merge(df_s,on='year',how='left')\n",
        "rta = rta.rename(columns = {'suicides/100k pop':'US'})\n",
        "rta = rta.set_index('year')\n",
        "rta"
      ],
      "execution_count": 14,
      "outputs": [
        {
          "output_type": "execute_result",
          "data": {
            "text/html": [
              "<div>\n",
              "<style scoped>\n",
              "    .dataframe tbody tr th:only-of-type {\n",
              "        vertical-align: middle;\n",
              "    }\n",
              "\n",
              "    .dataframe tbody tr th {\n",
              "        vertical-align: top;\n",
              "    }\n",
              "\n",
              "    .dataframe thead th {\n",
              "        text-align: right;\n",
              "    }\n",
              "</style>\n",
              "<table border=\"1\" class=\"dataframe\">\n",
              "  <thead>\n",
              "    <tr style=\"text-align: right;\">\n",
              "      <th></th>\n",
              "      <th>Japan</th>\n",
              "      <th>Colombia</th>\n",
              "      <th>Canada</th>\n",
              "      <th>France</th>\n",
              "      <th>Germany</th>\n",
              "      <th>Australia</th>\n",
              "      <th>US</th>\n",
              "    </tr>\n",
              "    <tr>\n",
              "      <th>year</th>\n",
              "      <th></th>\n",
              "      <th></th>\n",
              "      <th></th>\n",
              "      <th></th>\n",
              "      <th></th>\n",
              "      <th></th>\n",
              "      <th></th>\n",
              "    </tr>\n",
              "  </thead>\n",
              "  <tbody>\n",
              "    <tr>\n",
              "      <th>2000</th>\n",
              "      <td>23.9</td>\n",
              "      <td>5.0</td>\n",
              "      <td>11.9</td>\n",
              "      <td>20.2</td>\n",
              "      <td>14.5</td>\n",
              "      <td>12.7</td>\n",
              "      <td>12.215000</td>\n",
              "    </tr>\n",
              "    <tr>\n",
              "      <th>2001</th>\n",
              "      <td>23.2</td>\n",
              "      <td>4.9</td>\n",
              "      <td>12.2</td>\n",
              "      <td>19.5</td>\n",
              "      <td>14.5</td>\n",
              "      <td>12.2</td>\n",
              "      <td>12.351667</td>\n",
              "    </tr>\n",
              "    <tr>\n",
              "      <th>2002</th>\n",
              "      <td>23.8</td>\n",
              "      <td>4.7</td>\n",
              "      <td>11.9</td>\n",
              "      <td>19.8</td>\n",
              "      <td>14.6</td>\n",
              "      <td>11.3</td>\n",
              "      <td>12.501667</td>\n",
              "    </tr>\n",
              "    <tr>\n",
              "      <th>2003</th>\n",
              "      <td>25.6</td>\n",
              "      <td>4.6</td>\n",
              "      <td>12.4</td>\n",
              "      <td>20.1</td>\n",
              "      <td>14.4</td>\n",
              "      <td>10.5</td>\n",
              "      <td>12.136667</td>\n",
              "    </tr>\n",
              "    <tr>\n",
              "      <th>2004</th>\n",
              "      <td>24.1</td>\n",
              "      <td>4.5</td>\n",
              "      <td>11.7</td>\n",
              "      <td>19.5</td>\n",
              "      <td>14.0</td>\n",
              "      <td>10.3</td>\n",
              "      <td>12.241667</td>\n",
              "    </tr>\n",
              "    <tr>\n",
              "      <th>2005</th>\n",
              "      <td>24.3</td>\n",
              "      <td>4.1</td>\n",
              "      <td>12.2</td>\n",
              "      <td>19.1</td>\n",
              "      <td>13.3</td>\n",
              "      <td>11.2</td>\n",
              "      <td>12.223333</td>\n",
              "    </tr>\n",
              "    <tr>\n",
              "      <th>2006</th>\n",
              "      <td>23.9</td>\n",
              "      <td>4.1</td>\n",
              "      <td>11.2</td>\n",
              "      <td>18.5</td>\n",
              "      <td>12.8</td>\n",
              "      <td>10.6</td>\n",
              "      <td>12.094167</td>\n",
              "    </tr>\n",
              "    <tr>\n",
              "      <th>2007</th>\n",
              "      <td>25.0</td>\n",
              "      <td>4.1</td>\n",
              "      <td>11.5</td>\n",
              "      <td>17.9</td>\n",
              "      <td>12.4</td>\n",
              "      <td>10.9</td>\n",
              "      <td>12.426667</td>\n",
              "    </tr>\n",
              "    <tr>\n",
              "      <th>2008</th>\n",
              "      <td>24.4</td>\n",
              "      <td>4.2</td>\n",
              "      <td>11.5</td>\n",
              "      <td>18.2</td>\n",
              "      <td>12.5</td>\n",
              "      <td>11.6</td>\n",
              "      <td>12.770000</td>\n",
              "    </tr>\n",
              "    <tr>\n",
              "      <th>2009</th>\n",
              "      <td>24.9</td>\n",
              "      <td>4.1</td>\n",
              "      <td>12.0</td>\n",
              "      <td>18.4</td>\n",
              "      <td>12.8</td>\n",
              "      <td>11.2</td>\n",
              "      <td>12.849167</td>\n",
              "    </tr>\n",
              "    <tr>\n",
              "      <th>2010</th>\n",
              "      <td>24.1</td>\n",
              "      <td>3.8</td>\n",
              "      <td>12.1</td>\n",
              "      <td>18.2</td>\n",
              "      <td>13.2</td>\n",
              "      <td>11.7</td>\n",
              "      <td>13.240833</td>\n",
              "    </tr>\n",
              "    <tr>\n",
              "      <th>2011</th>\n",
              "      <td>23.4</td>\n",
              "      <td>3.7</td>\n",
              "      <td>11.3</td>\n",
              "      <td>18.0</td>\n",
              "      <td>13.2</td>\n",
              "      <td>11.2</td>\n",
              "      <td>13.530000</td>\n",
              "    </tr>\n",
              "    <tr>\n",
              "      <th>2012</th>\n",
              "      <td>21.6</td>\n",
              "      <td>3.8</td>\n",
              "      <td>11.8</td>\n",
              "      <td>17.8</td>\n",
              "      <td>12.9</td>\n",
              "      <td>11.7</td>\n",
              "      <td>13.761667</td>\n",
              "    </tr>\n",
              "    <tr>\n",
              "      <th>2013</th>\n",
              "      <td>21.4</td>\n",
              "      <td>3.7</td>\n",
              "      <td>12.1</td>\n",
              "      <td>17.0</td>\n",
              "      <td>13.4</td>\n",
              "      <td>11.5</td>\n",
              "      <td>13.889167</td>\n",
              "    </tr>\n",
              "    <tr>\n",
              "      <th>2014</th>\n",
              "      <td>20.1</td>\n",
              "      <td>3.8</td>\n",
              "      <td>12.7</td>\n",
              "      <td>15.6</td>\n",
              "      <td>13.4</td>\n",
              "      <td>12.7</td>\n",
              "      <td>14.277500</td>\n",
              "    </tr>\n",
              "    <tr>\n",
              "      <th>2015</th>\n",
              "      <td>19.1</td>\n",
              "      <td>4.1</td>\n",
              "      <td>13.0</td>\n",
              "      <td>15.8</td>\n",
              "      <td>13.3</td>\n",
              "      <td>13.2</td>\n",
              "      <td>14.617500</td>\n",
              "    </tr>\n",
              "  </tbody>\n",
              "</table>\n",
              "</div>"
            ],
            "text/plain": [
              "      Japan  Colombia  Canada  France  Germany  Australia         US\n",
              "year                                                                \n",
              "2000   23.9       5.0    11.9    20.2     14.5       12.7  12.215000\n",
              "2001   23.2       4.9    12.2    19.5     14.5       12.2  12.351667\n",
              "2002   23.8       4.7    11.9    19.8     14.6       11.3  12.501667\n",
              "2003   25.6       4.6    12.4    20.1     14.4       10.5  12.136667\n",
              "2004   24.1       4.5    11.7    19.5     14.0       10.3  12.241667\n",
              "2005   24.3       4.1    12.2    19.1     13.3       11.2  12.223333\n",
              "2006   23.9       4.1    11.2    18.5     12.8       10.6  12.094167\n",
              "2007   25.0       4.1    11.5    17.9     12.4       10.9  12.426667\n",
              "2008   24.4       4.2    11.5    18.2     12.5       11.6  12.770000\n",
              "2009   24.9       4.1    12.0    18.4     12.8       11.2  12.849167\n",
              "2010   24.1       3.8    12.1    18.2     13.2       11.7  13.240833\n",
              "2011   23.4       3.7    11.3    18.0     13.2       11.2  13.530000\n",
              "2012   21.6       3.8    11.8    17.8     12.9       11.7  13.761667\n",
              "2013   21.4       3.7    12.1    17.0     13.4       11.5  13.889167\n",
              "2014   20.1       3.8    12.7    15.6     13.4       12.7  14.277500\n",
              "2015   19.1       4.1    13.0    15.8     13.3       13.2  14.617500"
            ]
          },
          "metadata": {
            "tags": []
          },
          "execution_count": 14
        }
      ]
    },
    {
      "cell_type": "code",
      "metadata": {
        "colab": {
          "base_uri": "https://localhost:8080/",
          "height": 404
        },
        "id": "LaIKaSIH0Oxs",
        "outputId": "96e1ac97-7ce2-4859-e723-58f180b11a31"
      },
      "source": [
        "colors = ['purple','royalblue','red','salmon','gray','lime','black']\n",
        "rta.plot(figsize=(13,6),color=colors).legend(loc='center left', bbox_to_anchor=(1,0.5))\n",
        "plt.title('Suicide rate - 2000 to 2015')\n",
        "plt.ylabel('Suicide per 100k population')\n",
        "plt.grid(True,linestyle='--',alpha=0.6,)\n",
        "plt.xlim(2000,2015)\n",
        "plt.ylim(0,30)\n",
        "plt.savefig('assignment_4')\n",
        "plt.show()"
      ],
      "execution_count": 29,
      "outputs": [
        {
          "output_type": "display_data",
          "data": {
            "image/png": "[encoded data removed]",
            "text/plain": [
              "<Figure size 936x432 with 1 Axes>"
            ]
          },
          "metadata": {
            "tags": [],
            "needs_background": "light"
          }
        }
      ]
    },
    {
      "cell_type": "code",
      "metadata": {
        "id": "KkWS_22b1rGO"
      },
      "source": [
        ""
      ],
      "execution_count": null,
      "outputs": []
    }
  ]
}